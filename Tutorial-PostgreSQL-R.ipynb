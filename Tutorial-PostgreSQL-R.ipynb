{
 "cells": [
  {
   "cell_type": "markdown",
   "metadata": {},
   "source": [
    "# Access PostgreSQL Using R\n",
    "\n",
    "This notebook shows how to access postgreSQL using R by following the steps below:\n",
    "1. Install and import the _RPostgreSQL_ R library\n",
    "1. Identify and enter the database connection credentials\n",
    "1. Create the database connection\n",
    "1. Create a table\n",
    "1. Instert some data into table\n",
    "1. Query the data\n",
    "1. Import and export data\n",
    "1. Close the database connection\n",
    "\n",
    "\n",
    "## What is PostgreSQL?\n",
    "\n",
    "PostgreSQL is a powerful, open source, object-relational database system. It is a multi-user database management system and has sophisticated features such as Multi-Version Concurrency Control, point in time recovery, tablespaces, etc. You can find more details [here](http://www.postgresql.org/).\n",
    "\n",
    "## Why PostgreSQL?\n",
    "\n",
    "When dealing with large datasets (for example 50 GB) that potentially exceed the memory of your machine (RAM), it is nice to have another possibility such as an PostgreSQL database, where you can query the data in smaller digestible chunks. In this way, you just query data in smaller chunks (for instance 2 GB), and leave resources for the computation.\n",
    "\n",
    "__Notice:__ Get your own PostgreSQL free of charge: \n",
    "\n",
    "<h3 align = \"center\">\n",
    "<a href=\"https://console.ng.bluemix.net/catalog/services/postgresql-by-compose/?utm_source=dswb&utm_medium=dswb&utm_term=postgresql&utm_content=r&utm_campaign=PostgreSQL-R-DSWB\">Launch a PostgreSQL service through Bluemix</a>\n",
    "</h3>\n",
    "\n",
    "<a class=\"ibm-tooltip\" href=\"https://console.ng.bluemix.net/catalog/services/postgresql-by-compose/?utm_source=dswb&utm_medium=dswb&utm_term=postgresql&utm_content=r&utm_campaign=PostgreSQL-R-DSWB\" target=\"_blank\" title=\"\" id=\"ibm-tooltip-0\">\n",
    "<img alt=\"IBM Bluemix.Get started now\" height=\"193\" width=\"153\" src=\"https://ibm.box.com/shared/static/a91ydi71gu58ar10aosoc3sflyo3jif2.png\" >\n",
    "</a> \n",
    "\n",
    "\n",
    "\n",
    "## Import the _RPostgreSQL_ R library\n",
    "\n",
    "__RPostgreSQL__ is a fairly mature driver for interacting with PostgreSQL from the R scripting language. It provides to efficiently perform the full range of SQL operations against Postgres databases. This package is already pre-installed for you.\n",
    "\n",
    "CRAN [RPostgreSQL documentation](https://cran.r-project.org/web/packages/RPostgreSQL/)"
   ]
  },
  {
   "cell_type": "code",
   "execution_count": 1,
   "metadata": {
    "collapsed": false
   },
   "outputs": [
    {
     "name": "stderr",
     "output_type": "stream",
     "text": [
      "Loading required package: DBI\n"
     ]
    }
   ],
   "source": [
    "library(RPostgreSQL)"
   ]
  },
  {
   "cell_type": "markdown",
   "metadata": {},
   "source": [
    "## Identify the database connection credentials\n",
    "\n",
    "Connecting to PostgreSQL database requires the following information:\n",
    "* Host name or IP address \n",
    "* Host port\n",
    "* default database name\n",
    "* Connection protocol\n",
    "* User ID\n",
    "* User Password\n",
    "\n",
    "__Note:__ To obtain credentials follow this [user guide](https://www.ng.bluemix.net/docs/services/PostgreSQLByCompose/index.html).\n",
    "\n",
    "All of this information must be captured in a connection string in a subsequent step."
   ]
  },
  {
   "cell_type": "code",
   "execution_count": null,
   "metadata": {
    "collapsed": true
   },
   "outputs": [],
   "source": [
    "#Enter the values for you database connection\n",
    "dsn_database = \"<database name>\"            # e.g. \"compose\"\n",
    "dsn_hostname = \"<your host name>\" # e.g.: \"aws-us-east-1-portal.4.dblayer.com\"\n",
    "dsn_port = \"<port>\"                 # e.g. 11101 \n",
    "dsn_uid = \"<your user id>\"        # e.g. \"admin\"\n",
    "dsn_pwd = \"<your password>\"      # e.g. \"xxx\""
   ]
  },
  {
   "cell_type": "markdown",
   "metadata": {},
   "source": [
    "## Create the database connection\n",
    "To establish the connection, we use the **dbDriver** and **dbConnect** commands. For more information on the commands, please refer to the [official documentation](https://cran.r-project.org/web/packages/RPostgreSQL/)."
   ]
  },
  {
   "cell_type": "code",
   "execution_count": null,
   "metadata": {
    "collapsed": false
   },
   "outputs": [],
   "source": [
    "tryCatch({\n",
    "    drv <- dbDriver(\"PostgreSQL\")\n",
    "    print(\"Connecting to database\")\n",
    "    conn <- dbConnect(drv, \n",
    "                 dbname = dsn_database,\n",
    "                 host = dsn_hostname, \n",
    "                 port = dsn_port,\n",
    "                 user = dsn_uid, \n",
    "                 password = dsn_pwd)\n",
    "    print(\"Connected!\")\n",
    "    },\n",
    "    error=function(cond) {\n",
    "            print(\"Unable to connect to database.\")\n",
    "    })"
   ]
  },
  {
   "cell_type": "markdown",
   "metadata": {},
   "source": [
    "The next step is to check what tables exist in our database."
   ]
  },
  {
   "cell_type": "code",
   "execution_count": null,
   "metadata": {
    "collapsed": false
   },
   "outputs": [],
   "source": [
    "cursor <- dbGetQuery(conn, \"SELECT datname from pg_database\")\n",
    "\n",
    "cursor$datname"
   ]
  },
  {
   "cell_type": "markdown",
   "metadata": {},
   "source": [
    "## Create a table\n",
    "We create a test table namely __Cars__. Use the below code to drop the __Cars__ table if it already exists and then create the table."
   ]
  },
  {
   "cell_type": "code",
   "execution_count": null,
   "metadata": {
    "collapsed": false
   },
   "outputs": [],
   "source": [
    "dbSendQuery(conn, \"DROP TABLE IF EXISTS Cars\")\n",
    "dbSendQuery(conn, \"CREATE TABLE Cars(Id INTEGER PRIMARY KEY, Name VARCHAR(20), Price INT)\")"
   ]
  },
  {
   "cell_type": "markdown",
   "metadata": {},
   "source": [
    "## Insert some data into table\n",
    "Following cell shows how we can create records in our __Cars__ table created in above cell:"
   ]
  },
  {
   "cell_type": "code",
   "execution_count": null,
   "metadata": {
    "collapsed": false,
    "scrolled": true
   },
   "outputs": [],
   "source": [
    "dbSendQuery(conn, \"INSERT INTO Cars VALUES(1,'Audi',52642)\")\n",
    "dbSendQuery(conn, \"INSERT INTO Cars VALUES(2,'Mercedes',57127)\")\n",
    "dbSendQuery(conn, \"INSERT INTO Cars VALUES(3,'Skoda',9000)\")\n",
    "dbSendQuery(conn, \"INSERT INTO Cars VALUES(4,'Volvo',29000)\")\n",
    "dbSendQuery(conn, \"INSERT INTO Cars VALUES(5,'Bentley',350000)\")\n",
    "dbSendQuery(conn, \"INSERT INTO Cars VALUES(6,'Citroen',21000)\")\n",
    "dbSendQuery(conn, \"INSERT INTO Cars VALUES(7,'Hummer',41400)\")\n",
    "dbSendQuery(conn, \"INSERT INTO Cars VALUES(8,'Volkswagen',21600)\")"
   ]
  },
  {
   "cell_type": "markdown",
   "metadata": {},
   "source": [
    "## Query the data\n",
    "The following R code shows how we can fetch get the records from our __Cars__ table:"
   ]
  },
  {
   "cell_type": "code",
   "execution_count": null,
   "metadata": {
    "collapsed": false
   },
   "outputs": [],
   "source": [
    "df <- dbGetQuery(conn, \"SELECT * FROM Cars\")"
   ]
  },
  {
   "cell_type": "markdown",
   "metadata": {},
   "source": [
    "Now you can print the dataframe:"
   ]
  },
  {
   "cell_type": "code",
   "execution_count": null,
   "metadata": {
    "collapsed": false
   },
   "outputs": [],
   "source": [
    "df"
   ]
  },
  {
   "cell_type": "markdown",
   "metadata": {},
   "source": [
    "\n",
    "We can export data using **write.csv()**."
   ]
  },
  {
   "cell_type": "code",
   "execution_count": null,
   "metadata": {
    "collapsed": true
   },
   "outputs": [],
   "source": [
    "write.csv(df, 'cars.csv')  "
   ]
  },
  {
   "cell_type": "markdown",
   "metadata": {},
   "source": [
    "## Close the database connection"
   ]
  },
  {
   "cell_type": "code",
   "execution_count": null,
   "metadata": {
    "collapsed": false
   },
   "outputs": [],
   "source": [
    "dbDisconnect(conn)"
   ]
  }
 ],
 "metadata": {
  "kernelspec": {
   "display_name": "R",
   "language": "",
   "name": "ir"
  },
  "language_info": {
   "codemirror_mode": "r",
   "file_extension": ".r",
   "mimetype": "text/x-r-source",
   "name": "R",
   "pygments_lexer": "r"
  },
  "widgets": {
   "state": {},
   "version": "1.1.2"
  }
 },
 "nbformat": 4,
 "nbformat_minor": 0
}
