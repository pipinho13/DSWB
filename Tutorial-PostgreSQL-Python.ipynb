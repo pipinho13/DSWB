{
 "cells": [
  {
   "cell_type": "markdown",
   "metadata": {},
   "source": [
    "# Access PostgreSQL Using Python\n",
    "\n",
    "This notebook shows how to access postgreSQL using Python by following the steps below:\n",
    "1. Import the _psycopg2_ Python library\n",
    "1. Identify and enter the database connection credentials\n",
    "1. Create the database connection\n",
    "1. Create a table\n",
    "1. Instert some data into table\n",
    "1. Query the data\n",
    "1. Import and export data\n",
    "1. Close the database connection\n",
    "\n",
    "\n",
    "## What is PostgreSQL?\n",
    "\n",
    "PostgreSQL is a powerful, open source, object-relational database system. It is a multi-user database management system and has sophisticated features such as Multi-Version Concurrency Control, point in time recovery, tablespaces, etc. You can find more details [here](http://www.postgresql.org/).\n",
    "\n",
    "## Why PostgreSQL?\n",
    "\n",
    "When dealing with large datasets (for example 50 GB) that potentially exceed the memory of your machine (RAM), it is nice to have another possibility such as an PostgreSQL database, where you can query the data in smaller digestible chunks. In this way, you just query data in smaller chunks (for instance 2 GB), and leave resources for the computation.\n",
    "\n",
    "__Notice:__ Get your own PostgreSQL free of charge: \n",
    "\n",
    "<h3 align = \"center\">\n",
    "<a href=\"https://console.ng.bluemix.net/catalog/services/postgresql-by-compose/?utm_source=dswb&utm_medium=dswb&utm_term=postgresql&utm_content=python&utm_campaign=PostgreSQL-Python-DSWB\">Launch a PostgreSQL service through Bluemix</a>\n",
    "</h3>\n",
    "\n",
    "<a class=\"ibm-tooltip\" href=\"https://console.ng.bluemix.net/catalog/services/postgresql-by-compose/?utm_source=dswb&utm_medium=dswb&utm_term=postgresql&utm_content=python&utm_campaign=PostgreSQL-Python-DSWB\" target=\"_blank\" title=\"\" id=\"ibm-tooltip-0\">\n",
    "<img alt=\"IBM Bluemix.Get started now\" height=\"193\" width=\"153\" src=\"https://ibm.box.com/shared/static/a91ydi71gu58ar10aosoc3sflyo3jif2.png\" >\n",
    "</a> \n",
    "\n",
    "\n",
    "\n",
    "\n",
    "## Import the _psycopg2_ Python library\n",
    "\n",
    "__Psycopg2__ is a fairly mature driver for interacting with PostgreSQL from the Python scripting language. It provides to efficiently perform the full range of SQL operations against Postgres databases. This package is already pre-installed for you.\n"
   ]
  },
  {
   "cell_type": "code",
   "execution_count": null,
   "metadata": {
    "collapsed": true
   },
   "outputs": [],
   "source": [
    "import psycopg2\n",
    "import sys"
   ]
  },
  {
   "cell_type": "markdown",
   "metadata": {},
   "source": [
    "## Identify the database connection credentials\n",
    "\n",
    "Connecting to PostgreSQL database requires the following information:\n",
    "* Host name or IP address \n",
    "* Host port\n",
    "* default database name\n",
    "* Connection protocol\n",
    "* User ID\n",
    "* User Password\n",
    "\n",
    "__Notice:__ To obtain credentials follow this [user guide](https://www.ng.bluemix.net/docs/services/PostgreSQLByCompose/index.html).\n",
    "\n",
    "All of this information must be captured in a connection string in a subsequent step."
   ]
  },
  {
   "cell_type": "code",
   "execution_count": null,
   "metadata": {
    "collapsed": true
   },
   "outputs": [],
   "source": [
    "#Enter the values for you database connection\n",
    "dsn_database = \"<database name>\"            # e.g. \"compose\"\n",
    "dsn_hostname = \"<your host name>\" # e.g.: \"aws-us-east-1-portal.4.dblayer.com\"\n",
    "dsn_port = \"<port>\"                 # e.g. 11101 \n",
    "dsn_uid = \"<your user id>\"        # e.g. \"admin\"\n",
    "dsn_pwd = \"<your password>\"      # e.g. \"xxx\""
   ]
  },
  {
   "cell_type": "markdown",
   "metadata": {},
   "source": [
    "## Create the database connection\n",
    "get a connection, if a connect cannot be made an exception will be raised here.  \n",
    "__conn.cursor__ will return a cursor object, you can use this cursor to perform queries"
   ]
  },
  {
   "cell_type": "code",
   "execution_count": null,
   "metadata": {
    "collapsed": false
   },
   "outputs": [],
   "source": [
    "try:\n",
    "    conn_string = \"host=\"+dsn_hostname+\" port=\"+dsn_port+\" dbname=\"+dsn_database+\" user=\"+dsn_uid+\" password=\"+dsn_pwd\n",
    "    print \"Connecting to database\\n\t->%s\" % (conn_string)\n",
    "    conn=psycopg2.connect(conn_string)\n",
    "    print \"Connected!\\n\"\n",
    "except:\n",
    "    print \"Unable to connect to the database.\""
   ]
  },
  {
   "cell_type": "markdown",
   "metadata": {},
   "source": [
    "The next step is to define a cursor to work with. It is important to note that Python/Psycopg cursors are not cursors as defined by PostgreSQL. Given the cursor, we can execute a query, for example, to retrieve the list of databases.\n"
   ]
  },
  {
   "cell_type": "code",
   "execution_count": null,
   "metadata": {
    "collapsed": false
   },
   "outputs": [],
   "source": [
    "cursor = conn.cursor()\n",
    "cursor.execute(\"\"\"SELECT datname from pg_database\"\"\")\n",
    "rows = cursor.fetchall()"
   ]
  },
  {
   "cell_type": "markdown",
   "metadata": {},
   "source": [
    "We can iterate through _rows_ to print the results."
   ]
  },
  {
   "cell_type": "code",
   "execution_count": null,
   "metadata": {
    "collapsed": false
   },
   "outputs": [],
   "source": [
    "print \"\\nShow me the databases:\\n\"\n",
    "for row in rows:\n",
    "    print \"   \", row[0]"
   ]
  },
  {
   "cell_type": "markdown",
   "metadata": {},
   "source": [
    "## Create a table\n",
    "We create a test table namely __Cars__. Use the below code to drop the __Cars__ table if it already exists and then create the table."
   ]
  },
  {
   "cell_type": "code",
   "execution_count": null,
   "metadata": {
    "collapsed": false
   },
   "outputs": [],
   "source": [
    "cursor.execute(\"DROP TABLE IF EXISTS Cars\")\n",
    "cursor.execute(\"CREATE TABLE Cars(Id INTEGER PRIMARY KEY, Name VARCHAR(20), Price INT)\")"
   ]
  },
  {
   "cell_type": "markdown",
   "metadata": {},
   "source": [
    "## Instert some data into table\n",
    "Following cell shows how we can create records in our __Cars__ table created in above cell:"
   ]
  },
  {
   "cell_type": "code",
   "execution_count": null,
   "metadata": {
    "collapsed": false
   },
   "outputs": [],
   "source": [
    "cursor.execute(\"INSERT INTO Cars VALUES(1,'Audi',52642)\")\n",
    "cursor.execute(\"INSERT INTO Cars VALUES(2,'Mercedes',57127)\")\n",
    "cursor.execute(\"INSERT INTO Cars VALUES(3,'Skoda',9000)\")\n",
    "cursor.execute(\"INSERT INTO Cars VALUES(4,'Volvo',29000)\")\n",
    "cursor.execute(\"INSERT INTO Cars VALUES(5,'Bentley',350000)\")\n",
    "cursor.execute(\"INSERT INTO Cars VALUES(6,'Citroen',21000)\")\n",
    "cursor.execute(\"INSERT INTO Cars VALUES(7,'Hummer',41400)\")\n",
    "cursor.execute(\"INSERT INTO Cars VALUES(8,'Volkswagen',21600)\")\n",
    "\n",
    "conn.commit()"
   ]
  },
  {
   "cell_type": "markdown",
   "metadata": {},
   "source": [
    "## Query the data\n",
    "Following Python code shows how we can fetch and display records from our __Cars__ table:"
   ]
  },
  {
   "cell_type": "code",
   "execution_count": null,
   "metadata": {
    "collapsed": false
   },
   "outputs": [],
   "source": [
    "cursor.execute(\"\"\"SELECT * from Cars\"\"\")\n",
    "rows = cursor.fetchall()"
   ]
  },
  {
   "cell_type": "markdown",
   "metadata": {},
   "source": [
    "Now you can print out the records using pretty print"
   ]
  },
  {
   "cell_type": "code",
   "execution_count": null,
   "metadata": {
    "collapsed": false
   },
   "outputs": [],
   "source": [
    "print \"\\nShow me the databases:\\n\"\n",
    "import pprint\n",
    "pprint.pprint(rows)"
   ]
  },
  {
   "cell_type": "markdown",
   "metadata": {},
   "source": [
    "Also you can use a loop to show each row "
   ]
  },
  {
   "cell_type": "code",
   "execution_count": null,
   "metadata": {
    "collapsed": false
   },
   "outputs": [],
   "source": [
    "for row in rows:\n",
    "    print \" Number=\", row[0] ,\"  Name=\", row[1],\"  Price\", row[2]"
   ]
  },
  {
   "cell_type": "markdown",
   "metadata": {},
   "source": [
    "\n",
    "We can export data using __copy_to()__ methods."
   ]
  },
  {
   "cell_type": "code",
   "execution_count": null,
   "metadata": {
    "collapsed": true
   },
   "outputs": [],
   "source": [
    "fout = open('cars.csv', 'w')\n",
    "cursor.copy_to(fout, 'cars', sep=\",\")  "
   ]
  },
  {
   "cell_type": "markdown",
   "metadata": {},
   "source": [
    "Also, we can import data using __copy_from()__ methods."
   ]
  },
  {
   "cell_type": "code",
   "execution_count": null,
   "metadata": {
    "collapsed": false
   },
   "outputs": [],
   "source": [
    "f = open('cars.csv', 'r')\n",
    "cursor.copy_from(f, 'cars', sep=\",\")                    \n",
    "conn.commit()"
   ]
  },
  {
   "cell_type": "markdown",
   "metadata": {},
   "source": [
    "## Close the database connection"
   ]
  },
  {
   "cell_type": "code",
   "execution_count": null,
   "metadata": {
    "collapsed": true
   },
   "outputs": [],
   "source": [
    "conn.close()"
   ]
  }
 ],
 "metadata": {
  "kernelspec": {
   "display_name": "Python 2",
   "language": "python",
   "name": "python2"
  },
  "language_info": {
   "codemirror_mode": {
    "name": "ipython",
    "version": 2
   },
   "file_extension": ".py",
   "mimetype": "text/x-python",
   "name": "python",
   "nbconvert_exporter": "python",
   "pygments_lexer": "ipython2",
   "version": "2.7.12"
  },
  "widgets": {
   "state": {},
   "version": "1.1.2"
  }
 },
 "nbformat": 4,
 "nbformat_minor": 0
}
